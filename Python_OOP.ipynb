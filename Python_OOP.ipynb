{
  "nbformat": 4,
  "nbformat_minor": 0,
  "metadata": {
    "colab": {
      "provenance": [],
      "authorship_tag": "ABX9TyPWMoP5945hZRaTKYEpo7S5",
      "include_colab_link": true
    },
    "kernelspec": {
      "name": "python3",
      "display_name": "Python 3"
    },
    "language_info": {
      "name": "python"
    }
  },
  "cells": [
    {
      "cell_type": "markdown",
      "metadata": {
        "id": "view-in-github",
        "colab_type": "text"
      },
      "source": [
        "<a href=\"https://colab.research.google.com/github/abidshafee/python-oop/blob/main/Python_OOP.ipynb\" target=\"_parent\"><img src=\"https://colab.research.google.com/assets/colab-badge.svg\" alt=\"Open In Colab\"/></a>"
      ]
    },
    {
      "cell_type": "code",
      "execution_count": 3,
      "metadata": {
        "id": "0ZWM3uQgEaM4"
      },
      "outputs": [],
      "source": [
        "class Item:\n",
        "  def __init__(self, name: str, price: float, qty=0):\n",
        "\n",
        "    # Run Validation test\n",
        "    assert price >= 0\n",
        "    assert qty >=0\n",
        "\n",
        "    # instance Attribute - self object\n",
        "    self.name = name\n",
        "    self.price = price\n",
        "    self.qty = qty\n"
      ]
    },
    {
      "cell_type": "code",
      "source": [
        "pc = Item('Laptop', 45000, 5)"
      ],
      "metadata": {
        "id": "gsNFgIR5U_sb"
      },
      "execution_count": 6,
      "outputs": []
    },
    {
      "cell_type": "code",
      "source": [
        "pc.price"
      ],
      "metadata": {
        "colab": {
          "base_uri": "https://localhost:8080/"
        },
        "id": "ATx81g4GVkug",
        "outputId": "c155b930-f9b4-404a-8de7-efe888e6d4cf"
      },
      "execution_count": 7,
      "outputs": [
        {
          "output_type": "execute_result",
          "data": {
            "text/plain": [
              "45000"
            ]
          },
          "metadata": {},
          "execution_count": 7
        }
      ]
    },
    {
      "cell_type": "code",
      "source": [
        "print(pc.__dict__)"
      ],
      "metadata": {
        "id": "41DjsOVOXZ-U",
        "outputId": "43f849f4-eef0-42d5-e3fc-6249ea5e314e",
        "colab": {
          "base_uri": "https://localhost:8080/"
        }
      },
      "execution_count": 11,
      "outputs": [
        {
          "output_type": "stream",
          "name": "stdout",
          "text": [
            "{'name': 'Laptop', 'price': 45000, 'qty': 5}\n"
          ]
        }
      ]
    },
    {
      "cell_type": "code",
      "source": [],
      "metadata": {
        "id": "1e2GY3SIXn3A"
      },
      "execution_count": null,
      "outputs": []
    }
  ]
}