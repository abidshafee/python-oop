{
  "cells": [
    {
      "cell_type": "markdown",
      "metadata": {
        "id": "view-in-github",
        "colab_type": "text"
      },
      "source": [
        "<a href=\"https://colab.research.google.com/github/abidshafee/python-oop/blob/main/Python_OOP.ipynb\" target=\"_parent\"><img src=\"https://colab.research.google.com/assets/colab-badge.svg\" alt=\"Open In Colab\"/></a>"
      ]
    },
    {
      "cell_type": "code",
      "execution_count": 25,
      "metadata": {
        "id": "0ZWM3uQgEaM4"
      },
      "outputs": [],
      "source": [
        "class Item:\n",
        "  def __init__(self, name: str, price: float, qty=0):\n",
        "\n",
        "    # Run Validation to receive argument\n",
        "    assert price >= 0, f\"Price {price} is less than zero\"\n",
        "    assert qty >=0, f\"Quantity: {qty} is less than zero\"\n",
        "\n",
        "    # instance Attribute - self object\n",
        "    self.name = name\n",
        "    self.price = price\n",
        "    self.qty = qty\n",
        "\n",
        "    def total_price(self):\n",
        "      return self.price * self.qty\n",
        "\n",
        "pc = Item('Laptop', 45000, 5)\n",
        "# pc.total_price()"
      ]
    },
    {
      "cell_type": "code",
      "execution_count": 11,
      "metadata": {
        "id": "gsNFgIR5U_sb"
      },
      "outputs": [],
      "source": []
    },
    {
      "cell_type": "code",
      "execution_count": 12,
      "metadata": {
        "colab": {
          "base_uri": "https://localhost:8080/"
        },
        "id": "ATx81g4GVkug",
        "outputId": "1f53c363-3ef1-4f47-907c-5c89ccd13982"
      },
      "outputs": [
        {
          "output_type": "execute_result",
          "data": {
            "text/plain": [
              "{'name': 'Laptop', 'price': 45000, 'qty': 5}"
            ]
          },
          "metadata": {},
          "execution_count": 12
        }
      ],
      "source": [
        "pc.__dict__"
      ]
    },
    {
      "cell_type": "code",
      "source": [
        "Item.__dict__"
      ],
      "metadata": {
        "colab": {
          "base_uri": "https://localhost:8080/"
        },
        "id": "FxHkdXHDYjU4",
        "outputId": "dade6928-70e8-4ee5-fb3a-4a81f55ba550"
      },
      "execution_count": 15,
      "outputs": [
        {
          "output_type": "execute_result",
          "data": {
            "text/plain": [
              "mappingproxy({'__module__': '__main__',\n",
              "              '__init__': <function __main__.Item.__init__(self, name: str, price: float, qty=0)>,\n",
              "              '__dict__': <attribute '__dict__' of 'Item' objects>,\n",
              "              '__weakref__': <attribute '__weakref__' of 'Item' objects>,\n",
              "              '__doc__': None})"
            ]
          },
          "metadata": {},
          "execution_count": 15
        }
      ]
    },
    {
      "cell_type": "code",
      "source": [
        "pc.price"
      ],
      "metadata": {
        "colab": {
          "base_uri": "https://localhost:8080/"
        },
        "id": "Tqrktq20Yqfy",
        "outputId": "fa0e4a57-74e8-4573-e43f-66438537b054"
      },
      "execution_count": 17,
      "outputs": [
        {
          "output_type": "execute_result",
          "data": {
            "text/plain": [
              "45000"
            ]
          },
          "metadata": {},
          "execution_count": 17
        }
      ]
    },
    {
      "cell_type": "code",
      "source": [
        "pc.total_price()"
      ],
      "metadata": {
        "colab": {
          "base_uri": "https://localhost:8080/",
          "height": 165
        },
        "id": "O1SlNvPeZwNZ",
        "outputId": "b827af98-b6b4-441f-dc13-1622ad4ba842"
      },
      "execution_count": 19,
      "outputs": [
        {
          "output_type": "error",
          "ename": "AttributeError",
          "evalue": "ignored",
          "traceback": [
            "\u001b[0;31m---------------------------------------------------------------------------\u001b[0m",
            "\u001b[0;31mAttributeError\u001b[0m                            Traceback (most recent call last)",
            "\u001b[0;32m<ipython-input-19-4b5cd0765f24>\u001b[0m in \u001b[0;36m<module>\u001b[0;34m\u001b[0m\n\u001b[0;32m----> 1\u001b[0;31m \u001b[0mpc\u001b[0m\u001b[0;34m.\u001b[0m\u001b[0mtotal_price\u001b[0m\u001b[0;34m(\u001b[0m\u001b[0;34m)\u001b[0m\u001b[0;34m\u001b[0m\u001b[0;34m\u001b[0m\u001b[0m\n\u001b[0m",
            "\u001b[0;31mAttributeError\u001b[0m: 'Item' object has no attribute 'total_price'"
          ]
        }
      ]
    },
    {
      "cell_type": "code",
      "source": [],
      "metadata": {
        "id": "v0o2aHjmZ1VT"
      },
      "execution_count": null,
      "outputs": []
    }
  ],
  "metadata": {
    "colab": {
      "provenance": [],
      "authorship_tag": "ABX9TyMyt+k1khONDOJ+ooIpmo0e",
      "include_colab_link": true
    },
    "kernelspec": {
      "display_name": "Python 3",
      "name": "python3"
    },
    "language_info": {
      "name": "python"
    }
  },
  "nbformat": 4,
  "nbformat_minor": 0
}